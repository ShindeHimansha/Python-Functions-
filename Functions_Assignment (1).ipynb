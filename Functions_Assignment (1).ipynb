{
  "nbformat": 4,
  "nbformat_minor": 0,
  "metadata": {
    "colab": {
      "provenance": []
    },
    "kernelspec": {
      "name": "python3",
      "display_name": "Python 3"
    },
    "language_info": {
      "name": "python"
    }
  },
  "cells": [
    {
      "cell_type": "markdown",
      "source": [
        "#1. What is the difference between a function and a method in python ?\n",
        "- A function is a structured, reusable code block utilized for carrying out a specific task. Functions facilitate the creation of modular code, simplifying maintenance and reusability.\n",
        "- example\n",
        "def greet(name):\n",
        "  return f\"Hello,{name}!\"\n",
        "\n",
        "print(greet(\"Alice\"))\n",
        "\n",
        "- A method is a function that is associated with an object (usually part of a class).Methods operate on the data that belongs to the object and can access and modify its attributes.\n",
        "- example\n",
        "class Greeter:\n",
        "    def greet(self, name):\n",
        "    return f\"Hello, {name}!\"\n",
        "greeter = Greeter()\n",
        "print(greeter.greet(\"Alice\"))  # Output: Hello, Alice!\n",
        "\n",
        "#2 Explain the concept of function arguments and parameters in Python ?\n",
        "- Parameters are the variables defined in a function's declaration. They act as placeholders for the data (values) that the function will process.\n",
        "\n",
        "- example: def greet(name):  # 'name' is the parameter\n",
        "    return f\"Hello, {name}!\"\n",
        "\n",
        "- Definition: Arguments are the actual values passed to the function when it is called. These values replace the parameters in the function body during execution.\n",
        "\n",
        "- example: print(greet(\"Alice\"))  # 'Alice' is the argument.\n",
        "\n",
        "#3  What are the different ways to define and call a function in Python ?\n",
        "- 1. Regular function:\n",
        "  - Def- Use the def keyword to define a function\n",
        "  - Call- Call the function by its name followed by parentheses.\n",
        "  - example: def greet(name):\n",
        "    return f\"Hello, {name}!\"\n",
        "    print(greet(\"Alice\"))\n",
        "- 2. Function with Default Parameters:\n",
        "  - Parameters can have default values, which are used if no value is provided during the function call.\n",
        "  - example:\n",
        "  def greet(name=\"Guest\"):\n",
        "    return f\"Hello, {name}!\"\n",
        "    print(greet())        \n",
        "    print(greet(\"Alice\"))\n",
        "- 3. Lambda Functions\n",
        "  - use the lambda keyword to define small,single expression functions.\n",
        "  - example:\n",
        "  add = lambda a, b: a+b\n",
        "  print(add(3,5))\n",
        "\n",
        "#4 . What is the purpose of the `return` statement in a Python function ?\n",
        "- Cases of the return Statement:\n",
        "    - Return a Single Value: The return statement returns a single value to the caller.\n",
        "    - Return Multiple Values: The return statement can return multiple values as a tuple.\n",
        "    - Exit Function Early: The return statement can stop the function execution early.\n",
        "    - Return None (Nothing): If return is used without a value, or if there is no return statement, the function returns None.\n",
        "    - Enable Function Composition: The return statement allows you to chain functions together.\n",
        "\n",
        "- Example :\n",
        "    # Case 1: Return a Single Value\n",
        "    def add(a, b):\n",
        "        return a + b  # Returns the sum of a and b\n",
        "\n",
        "    # Case 2: Return Multiple Values\n",
        "    def get_details():\n",
        "        name = \"Alice\"\n",
        "        age = 25\n",
        "        return name, age  # Returns both name and age as a tuple\n",
        "\n",
        "    # Case 3: Exit Function Early\n",
        "    def early_exit():\n",
        "        return \"Exiting Early\"  # Stops function execution immediately\n",
        "        print(\"This will never execute\")  # This line is never executed\n",
        "\n",
        "    # Case 4: Return None (Nothing)\n",
        "    def do_nothing():\n",
        "        return  # Returns None, since no value is provided\n",
        "\n",
        "    # Case 5: Enable Function Composition\n",
        "    def square(x):\n",
        "        return x ** 2  # Returns the square of x\n",
        "\n",
        "    def double(x):\n",
        "        return x * 2  # Returns double of x\n",
        "\n",
        "#5 What are iterators in Python and how do they differ from iterables?\n",
        "-  An iterator is an object that allows traversal through a countable number of values. It is used to iterate over iterable objects like lists, tuples, sets, etc\n",
        "- An iterable is any object in Python that can be iterated over (i.e., you can traverse through all its elements). Iterables are objects that implement the __iter__() method, which returns an iterator.\n",
        "- Difference : An iterable is any object that can return an iterator (via __iter__()), while an iterator is an object that keeps track of the current state during iteration (via __next__()).\n",
        "- example\n",
        "my_list = [1, 2, 3] #iterable\n",
        "my_iter = iter(my_list) #iterator\n",
        "print(next(my_iter))  # Output: 1\n",
        "print(next(my_iter))  # Output: 2\n",
        "print(next(my_iter))  # Output: 3\n",
        "\n",
        "#6  Explain the concept of generators in Python and how they are defined.\n",
        "- Generators are a simple way to create iterators using functions and the yield keyword instead of returning values.\n",
        "- Generators can be defined in 2 ways :\n",
        "  - Generator Function: A function that contains at least one yield statement. When called, it returns a generator object.\n",
        "\n",
        "  - Generator Expression: Similar to list comprehensions, but it uses () instead of [] and yields values instead of storing them.\n",
        "\n",
        "- example:\n",
        "# Generator function that yields values one by one\n",
        "def my_generator(start, end):\n",
        "    while start <= end:\n",
        "        yield start  # Yield a value and pause the function\n",
        "        start += 1  # Move to the next value\n",
        "        gen = my_generator(1, 5)\n",
        "        print(next(gen))  # Output: 1\n",
        "\n",
        "#7  What are the advantages of using generators over regular functions?\n",
        "- Memory Efficiency:\n",
        "    - Generators produce items one at a time and do not store the entire result in memory.\n",
        "    - In contrast, regular functions (that return lists or other collections) compute and store all values at once, which can be memory-intensive for large datasets.\n",
        "\n",
        "- Lazy Evaluation:\n",
        "    - Generators compute values only when requested (on-the-fly), which can lead to significant performance improvements for large or infinite data sequences.\n",
        "\n",
        "- Infinite Sequences:\n",
        "    - Generators can handle infinite sequences without running out of memory, as they yield values one at a time.\n",
        "    - Regular functions cannot work with infinite sequences since they require creating the entire sequence in memory.\n",
        "\n",
        "- Simpler Syntax: Using yield simplifies the creation of iterators, making the code more concise and readable.\n",
        "\n",
        "#8 What is a lambda function in Python and when is it typically used?\n",
        "-  Lambda functions are small, anonymous functions defined using the lambda keyword. They are used for creating small, throwaway functions without the need to formally define a function using def\n",
        "\n",
        "- Lambda functions are used when:\n",
        "    - You Need a Short, Anonymous Function: When a function is required temporarily and doesn't need a name.\n",
        "    - For Inline Operations: When defining simple operations directly in a single line.\n",
        "\n",
        "#9  Explain the purpose and usage of the `map()` function in Python.\n",
        "- he map function applies a given function to all items in an input iterable (like a list) and returns an iterator with the results.\n",
        "- map() function is used for:\n",
        "  -  Transformation: Used to transform each item in an iterable by applying the specified function.\n",
        "  - Syntax: map(function, iterable)\n",
        "\n",
        "#10  What is the difference between `map()`, `reduce()`, and `filter()` functions in Python?\n",
        "- map(): Applies a function to each element in an iterable and returns a new iterable with the transformed elements.\n",
        "- filter(): Filters elements from an iterable based on a condition defined in the function, returning only those that meet the condition.\n",
        "- reduce(): Combines all elements in an iterable into a single value using a binary function applied cumulatively.\n",
        "- Difference between these 3 in context with their purpose is\n",
        "  - map() is used for transforming elements in an iterable.\n",
        "  - filter() is used for selecting elements that satisfy a condition.\n",
        "  - reduce() is used for aggregating or combining elements into a single value.\n",
        "\n",
        "#11 Using pen & Paper write the internal mechanism for sum operation using  reduce function on this given list:[47,11,42,13];\n",
        "\n",
        "- Attached in Doc\n",
        "\n"
      ],
      "metadata": {
        "id": "KAmPnqU7j7og"
      }
    },
    {
      "cell_type": "code",
      "source": [
        "#1 Write a Python function that takes a list of numbers as input and returns the sum of all even numbers in the list\n",
        "\n",
        "def sum_of_evens(numbers):\n",
        "    return sum(num for num in numbers if num % 2 == 0)\n",
        "\n",
        "numbers = [1, 2, 3, 4, 5, 6]\n",
        "result = sum_of_evens(numbers)\n",
        "print(\"Sum of even numbers:\", result)\n"
      ],
      "metadata": {
        "colab": {
          "base_uri": "https://localhost:8080/"
        },
        "id": "zCtXq1-Xpxlu",
        "outputId": "0401a79c-e14f-4abe-9c12-1301f471f533"
      },
      "execution_count": 1,
      "outputs": [
        {
          "output_type": "stream",
          "name": "stdout",
          "text": [
            "Sum of even numbers: 12\n"
          ]
        }
      ]
    },
    {
      "cell_type": "code",
      "source": [
        "#2  Create a Python function that accepts a string and returns the reverse of that string.\n",
        "\n",
        "def reverse_string(s):\n",
        "    return s[::-1]\n",
        "\n",
        "result = reverse_string(\"pwskills\")\n",
        "print(\"Reversed string:\", result)"
      ],
      "metadata": {
        "colab": {
          "base_uri": "https://localhost:8080/"
        },
        "id": "mX4a9DDFqPgf",
        "outputId": "56eba072-c3b9-4a9c-df8f-224369a1ef2d"
      },
      "execution_count": 3,
      "outputs": [
        {
          "output_type": "stream",
          "name": "stdout",
          "text": [
            "Reversed string: sllikswp\n"
          ]
        }
      ]
    },
    {
      "cell_type": "code",
      "source": [
        "#3  Implement a Python function that takes a list of integers and returns a new list containing the squares of each number\n",
        "\n",
        "def square(numbers):\n",
        "    return [num ** 2 for num in numbers]\n",
        "\n",
        "numbers = [1, 2, 3, 9, 5]\n",
        "result = square(numbers)\n",
        "print(\"Squared numbers:\", result)"
      ],
      "metadata": {
        "colab": {
          "base_uri": "https://localhost:8080/"
        },
        "id": "uQLMr1lRqZlQ",
        "outputId": "f13aadf1-1c8b-48c4-9ebb-73523aebc81d"
      },
      "execution_count": 4,
      "outputs": [
        {
          "output_type": "stream",
          "name": "stdout",
          "text": [
            "Squared numbers: [1, 4, 9, 81, 25]\n"
          ]
        }
      ]
    },
    {
      "cell_type": "code",
      "source": [
        "#4  Write a Python function that checks if a given number is prime or not from 1 to 200\n",
        "\n",
        "def is_prime(num):\n",
        "    if num < 2:\n",
        "        return False\n",
        "    for i in range(2, int(num ** 0.5) + 1):\n",
        "        if num % i == 0:\n",
        "            return False\n",
        "    return True\n",
        "\n",
        "number = 17\n",
        "if is_prime(number):\n",
        "    print(f\"{number} is a prime number.\")\n",
        "else:\n",
        "    print(f\"{number} is not a prime number.\")"
      ],
      "metadata": {
        "colab": {
          "base_uri": "https://localhost:8080/"
        },
        "id": "F5DirxZdqrXr",
        "outputId": "ec629c3c-2287-4394-ba5d-144dde840d99"
      },
      "execution_count": 6,
      "outputs": [
        {
          "output_type": "stream",
          "name": "stdout",
          "text": [
            "17 is a prime number.\n"
          ]
        }
      ]
    },
    {
      "cell_type": "code",
      "source": [
        "#5 Create an iterator class in Python that generates the Fibonacci sequence up to a specified number of terms.\n",
        "\n",
        "class FibonacciIterator:\n",
        "    def __init__(self, n):\n",
        "        self.n = n\n",
        "        self.current = 0\n",
        "        self.next = 1\n",
        "        self.index = 0\n",
        "\n",
        "    def __iter__(self):\n",
        "        return self\n",
        "\n",
        "    def __next__(self):\n",
        "        if self.index >= self.n:\n",
        "            raise StopIteration\n",
        "        if self.index == 0:\n",
        "            self.index += 1\n",
        "            return self.current\n",
        "        elif self.index == 1:\n",
        "            self.index += 1\n",
        "            return self.next\n",
        "        else:\n",
        "            fib = self.current + self.next\n",
        "            self.current, self.next = self.next, fib\n",
        "            self.index += 1\n",
        "            return fib\n",
        "\n",
        "fib = FibonacciIterator(10)\n",
        "for num in fib:\n",
        "    print(num, end=\" \")\n"
      ],
      "metadata": {
        "id": "bMTtmhJXrJJx"
      },
      "execution_count": null,
      "outputs": []
    },
    {
      "cell_type": "code",
      "source": [
        "#6 Write a generator function in Python that yields the powers of 2 up to a given exponent.\n",
        "\n",
        "def power_of_two(n):\n",
        "    power = 0\n",
        "    while power <= n:\n",
        "        yield 2 ** power\n",
        "        power += 1\n",
        "\n",
        "result = power_of_two(5)\n",
        "for power in result:\n",
        "    print(power)"
      ],
      "metadata": {
        "colab": {
          "base_uri": "https://localhost:8080/"
        },
        "id": "P52Y1xdmraJu",
        "outputId": "3c824430-4b95-49d0-9835-b67e51cdd73d"
      },
      "execution_count": 7,
      "outputs": [
        {
          "output_type": "stream",
          "name": "stdout",
          "text": [
            "1\n",
            "2\n",
            "4\n",
            "8\n",
            "16\n",
            "32\n"
          ]
        }
      ]
    },
    {
      "cell_type": "code",
      "source": [
        "#7 Implement a generator function that reads a file line by line and yields each line as a string.\n",
        "\n",
        "def read_file_line_by_line(file_path):\n",
        "    with open(file_path, 'r') as file:\n",
        "        for line in file:\n",
        "            yield line.strip()\n",
        "\n",
        "for line in read_file_line_by_line(\"/content/_HOW TO RUN GAME!!.txt\"):\n",
        "    print(line)\n"
      ],
      "metadata": {
        "colab": {
          "base_uri": "https://localhost:8080/"
        },
        "id": "yGewFI5yrqR8",
        "outputId": "0a7f5a68-8c4d-4e09-ae97-108141fa4b02"
      },
      "execution_count": 15,
      "outputs": [
        {
          "output_type": "stream",
          "name": "stdout",
          "text": [
            "Hey Guys, Chemical Here!\n",
            "\n",
            "To Run This Game, Just Run X-Men Origins - Wolverine.exe!\n",
            "\n",
            "Any Issues Install The Missing Drivers From The _Redist Folder!\n",
            "\n",
            "Thanks Guys!\n",
            "\n",
            "- ChemicalFlood\n",
            "\n",
            "P.S, The Games Real .EXE is Called Wolverine.exe and is inside the Binaries folder, Just Incase your not on Windows (Steamdeck!)\n"
          ]
        }
      ]
    },
    {
      "cell_type": "code",
      "source": [
        "#8  Use a lambda function in Python to sort a list of tuples based on the second element of each tuple.\n",
        "\n",
        "tuples_list = [(1, 3), (4, 1), (2, 2), (5, 0)]\n",
        "sorted_list = sorted(tuples_list, key=lambda x: x[1])\n",
        "print(sorted_list)"
      ],
      "metadata": {
        "colab": {
          "base_uri": "https://localhost:8080/"
        },
        "id": "Vh51OTbqsrhx",
        "outputId": "18e64b68-124b-4ed0-c6db-ae7c9ac33b0a"
      },
      "execution_count": 9,
      "outputs": [
        {
          "output_type": "stream",
          "name": "stdout",
          "text": [
            "[(5, 0), (4, 1), (2, 2), (1, 3)]\n"
          ]
        }
      ]
    },
    {
      "cell_type": "code",
      "source": [
        "#9 Write a Python program that uses `map()` to convert a list of temperatures from Celsius to Fahrenheit.\n",
        "\n",
        "celsius_temperatures = [0, 20, 30, 40, 100]\n",
        "def celsius_to_fahrenheit(celsius):\n",
        "    return (celsius * 9/5) + 32\n",
        "fahrenheit_temperatures = list(map(celsius_to_fahrenheit, celsius_temperatures))\n",
        "print(fahrenheit_temperatures)"
      ],
      "metadata": {
        "colab": {
          "base_uri": "https://localhost:8080/"
        },
        "id": "FikLwAzQs4h0",
        "outputId": "e99e75b8-ecdc-41ba-e818-ed99b2858bfa"
      },
      "execution_count": 10,
      "outputs": [
        {
          "output_type": "stream",
          "name": "stdout",
          "text": [
            "[32.0, 68.0, 86.0, 104.0, 212.0]\n"
          ]
        }
      ]
    },
    {
      "cell_type": "code",
      "source": [
        "#10. Create a Python program that uses `filter()` to remove all the vowels from a given string.\n",
        "\n",
        "def is_not_vowel(char):\n",
        "    return char.lower() not in 'aeiou'\n",
        "input_string = \"Himansha Shinde\"\n",
        "filtered_string = ''.join(filter(is_not_vowel, input_string))\n",
        "print(filtered_string)"
      ],
      "metadata": {
        "colab": {
          "base_uri": "https://localhost:8080/"
        },
        "id": "87nHoGLes_zm",
        "outputId": "fc0d2ce4-1618-4edd-891f-4666089226b6"
      },
      "execution_count": 14,
      "outputs": [
        {
          "output_type": "stream",
          "name": "stdout",
          "text": [
            "Hmnsh Shnd\n"
          ]
        }
      ]
    },
    {
      "cell_type": "code",
      "source": [
        "#11Write a Python program, which returns a list with 2-tuples. Each tuple consists of the order number and the product of the price per item and the quantity. The product should be increased by 10,- € if the value of the order is smaller than 100,00 €. Write a Python program using lambda and map.\n",
        "\n",
        "orders = [\n",
        "    [34587, \"Learning Python, Mark Lutz\", 4, 40.95],\n",
        "    [98762, \"Programming Python, Mark Lutz\", 5, 56.80],\n",
        "    [77226, \"Head First Python, Paul Barry\", 3, 32.95],\n",
        "    [88112, \"Einführung in Python3, Bernd Klein\", 3, 24.99],\n",
        "]\n",
        "\n",
        "# Lambda function and map to calculate the result\n",
        "result = list(map(\n",
        "    lambda x: (x[0], round(x[2] * x[3] + (10 if x[2] * x[3] < 100 else 0), 2)),\n",
        "    orders\n",
        "))\n",
        "\n",
        "# Output the result\n",
        "print(result)"
      ],
      "metadata": {
        "colab": {
          "base_uri": "https://localhost:8080/"
        },
        "id": "sVft_LTOtjmA",
        "outputId": "a81f93d3-3a44-4cd1-b584-57ccef7d7515"
      },
      "execution_count": 13,
      "outputs": [
        {
          "output_type": "stream",
          "name": "stdout",
          "text": [
            "[(34587, 163.8), (98762, 284.0), (77226, 108.85), (88112, 84.97)]\n"
          ]
        }
      ]
    }
  ]
}